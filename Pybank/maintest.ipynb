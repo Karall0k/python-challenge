{
 "cells": [
  {
   "cell_type": "code",
   "execution_count": 1,
   "id": "6a93fbcd-54c1-4294-a262-e3b45abcd197",
   "metadata": {},
   "outputs": [],
   "source": [
    "import os\n",
    "import csv"
   ]
  },
  {
   "cell_type": "code",
   "execution_count": 2,
   "id": "406e57c9-1907-4405-ad92-a661d27d7f87",
   "metadata": {},
   "outputs": [],
   "source": [
    "csvpath = os.path.join(\"Resources\", \"budget_data.csv\")"
   ]
  },
  {
   "cell_type": "code",
   "execution_count": 3,
   "id": "c2df629a-78e3-4697-a3be-31d51e80da5b",
   "metadata": {},
   "outputs": [],
   "source": [
    "#Set up lists\n",
    "date = []\n",
    "profit = []\n",
    "profit_change = []"
   ]
  },
  {
   "cell_type": "code",
   "execution_count": 4,
   "id": "1c0a12f2-3dbc-4872-8f0f-2c1490d6bbc0",
   "metadata": {},
   "outputs": [],
   "source": [
    "#Set initial count for lists\n",
    "month_count = 0\n",
    "total_profit = 0\n",
    "profit_ini = 0\n",
    "total_profit_change = 0"
   ]
  },
  {
   "cell_type": "code",
   "execution_count": 5,
   "id": "461d9683-f4ff-4106-92de-7d1280891bd9",
   "metadata": {},
   "outputs": [
    {
     "name": "stdout",
     "output_type": "stream",
     "text": [
      "['Date', 'Profit/Losses']\n"
     ]
    }
   ],
   "source": [
    "with open(csvpath) as csvfile:\n",
    "    csvreader = csv.reader(csvfile)\n",
    "    csv_header = next(csvreader)\n",
    "    print(csv_header)\n",
    "\n",
    "    for row in csvreader:\n",
    "        #counting months\n",
    "        month_count = month_count + 1\n",
    "        #appending list to isolate months \n",
    "        date.append(row[0])\n",
    "        #appending list to isolate profit and calculate total profit and average change\n",
    "        profit.append(row[1])\n",
    "        total_profit = total_profit + int(row[1])\n",
    "        #monthly average change calculation\n",
    "        end_profit = int(row[1])\n",
    "        monthly_profit_change = end_profit - profit_ini\n",
    "        #Store profit change in list\n",
    "        profit_change.append(monthly_profit_change)\n",
    "        total_profit_change = total_profit_change + monthly_profit_change\n",
    "        profit_ini = end_profit\n",
    "\n",
    "        #calculate average change overall\n",
    "        average_profit_change = (total_profit_change/month_count)\n",
    "\n",
    "        #greatest increase and decrease calc\n",
    "        greatest_inc_profit = max(profit_change)\n",
    "        greatest_dec_profit = min(profit_change)\n",
    "\n",
    "        date_inc = date[profit_change.index(greatest_inc_profit)]\n",
    "        date_dec = date[profit_change.index(greatest_dec_profit)]"
   ]
  },
  {
   "cell_type": "code",
   "execution_count": 18,
   "id": "6575a5a2-05d7-4aae-9740-05d6f33873a4",
   "metadata": {},
   "outputs": [
    {
     "name": "stdout",
     "output_type": "stream",
     "text": [
      "Financial Analysis\n",
      "-----------------------\n",
      "Total Months: 86\n",
      "Total Profits $22564198\n",
      "Average Change 4448\n",
      "Greatest Increase in Profits: Aug-16 ($1862002)\n",
      "Greatest Decrease in Profits: Feb-14 ($-1825558)\n"
     ]
    }
   ],
   "source": [
    "#Print in terminal\n",
    "print(\"Financial Analysis\")\n",
    "print(\"-----------------------\")\n",
    "print(\"Total Months: \" + str(month_count))\n",
    "print(\"Total Profits: \" + \"$\" + str(total_profit))\n",
    "print(\"Average Change: \" + \"$\" + str(int(average_profit_change)))\n",
    "print(\"Greatest Increase in Profits: \" + str(date_inc) + \" ($\" + str(greatest_inc_profit) + \")\")\n",
    "print(\"Greatest Decrease in Profits: \" + str(date_dec) + \" ($\" + str(greatest_dec_profit) + \")\")"
   ]
  },
  {
   "cell_type": "code",
   "execution_count": 32,
   "id": "5108acba-4f5a-4d74-94ca-38bf8f06838d",
   "metadata": {},
   "outputs": [],
   "source": [
    "txtpath = os.path.join(\"Analysis\", \"Financial_Analysis_KAL.txt\")\n",
    "with open(txtpath, \"w\") as text:\n",
    "    \n",
    "    text.write(\"Financial Analysis\"+ \"\\n\")\n",
    "    text.write(\"-----------------------------\\n\\n\")\n",
    "    text.write(\"Total Months: \" + str(month_count) + \"\\n\")\n",
    "    text.write(\"Total Profits: \" + \"$\" + str(total_profit) + \"\\n\")\n",
    "    text.write(\"Average Change: \" + \"$\" + str(int(average_profit_change)) + \"\\n\")\n",
    "    text.write(\"Greatest Increase in Profits: \" + str(date_inc) + \" ($\" + str(greatest_inc_profit) + \")\\n\")\n",
    "    text.write(\"Greatest Decrease in Profits: \" + str(date_dec) + \" ($\" + str(greatest_dec_profit) + \")\\n\")"
   ]
  },
  {
   "cell_type": "code",
   "execution_count": null,
   "id": "5e470914-de46-437a-9a2a-b5afc6bf716b",
   "metadata": {},
   "outputs": [],
   "source": []
  }
 ],
 "metadata": {
  "kernelspec": {
   "display_name": "Python 3 (ipykernel)",
   "language": "python",
   "name": "python3"
  },
  "language_info": {
   "codemirror_mode": {
    "name": "ipython",
    "version": 3
   },
   "file_extension": ".py",
   "mimetype": "text/x-python",
   "name": "python",
   "nbconvert_exporter": "python",
   "pygments_lexer": "ipython3",
   "version": "3.10.13"
  }
 },
 "nbformat": 4,
 "nbformat_minor": 5
}
