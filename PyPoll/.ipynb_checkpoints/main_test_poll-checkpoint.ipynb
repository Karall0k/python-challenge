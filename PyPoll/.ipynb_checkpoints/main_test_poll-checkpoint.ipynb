{
 "cells": [
  {
   "cell_type": "code",
   "execution_count": 1,
   "id": "b77dcc24",
   "metadata": {},
   "outputs": [],
   "source": [
    "import os\n",
    "import csv"
   ]
  },
  {
   "cell_type": "code",
   "execution_count": 2,
   "id": "3c035a96",
   "metadata": {},
   "outputs": [],
   "source": [
    "csvpath = os.path.join(\"Resources\", \"election_data.csv\")"
   ]
  },
  {
   "cell_type": "code",
   "execution_count": 3,
   "id": "b78da336",
   "metadata": {},
   "outputs": [],
   "source": [
    "total_count = 0\n",
    "candidatelist = []\n",
    "unique_candidate = []\n",
    "vote_count = []\n",
    "vote_percent = []"
   ]
  },
  {
   "cell_type": "code",
   "execution_count": 4,
   "id": "9aab5cce",
   "metadata": {},
   "outputs": [],
   "source": [
    "with open(csvpath) as csvfile:\n",
    "    csvreader = csv.reader(csvfile)\n",
    "    csv_header = next(csvreader)\n",
    "\n",
    "    for row in csvreader:\n",
    "        #counting votes\n",
    "        total_count = total_count + 1\n",
    "        #appending list to isolate candidates from third item in list\n",
    "        candidatelist.append(row[2])\n",
    "    # Create a set from the candidatelist to get the unique candidate names\n",
    "    for x in set(candidatelist):\n",
    "        unique_candidate.append(x)\n",
    "        # y is the total number of votes per candidate\n",
    "        y = candidatelist.count(x)\n",
    "        vote_count.append(y)\n",
    "        # z is the percent of total votes per candidate\n",
    "        z = (y/total_count)*100\n",
    "        vote_percent.append(z)\n",
    "\n",
    "        winning_vote_count = max(vote_count)\n",
    "        winner = unique_candidate[vote_count.index(winning_vote_count)]\n"
   ]
  },
  {
   "cell_type": "code",
   "execution_count": 5,
   "id": "8d79207b",
   "metadata": {},
   "outputs": [
    {
     "name": "stdout",
     "output_type": "stream",
     "text": [
      "-------------------------\n",
      "Election Results\n",
      "-------------------------\n",
      "Total Votes :369711\n",
      "-------------------------\n",
      "Raymon Anthony Doane: 3.1392087333079077% (11606)\n",
      "Charles Casper Stockham: 23.04854332167558% (85213)\n",
      "Diana DeGette: 73.81224794501652% (272892)\n",
      "-------------------------\n",
      "The winner is: Diana DeGette\n",
      "-------------------------\n"
     ]
    }
   ],
   "source": [
    "#print to terminal\n",
    "print(\"-------------------------\")\n",
    "print(\"Election Results\")   \n",
    "print(\"-------------------------\")\n",
    "print(\"Total Votes :\" + str(total_count))    \n",
    "print(\"-------------------------\")\n",
    "for i in range(len(unique_candidate)):\n",
    "            print(unique_candidate[i] + \": \" + str(vote_percent[i]) +\"% (\" + str(vote_count[i])+ \")\")\n",
    "print(\"-------------------------\")\n",
    "print(\"The winner is: \" + winner)\n",
    "print(\"-------------------------\")"
   ]
  },
  {
   "cell_type": "code",
   "execution_count": 6,
   "id": "9d32fbff",
   "metadata": {},
   "outputs": [],
   "source": [
    "#print to text file\n",
    "txtpath = os.path.join(\"Analysis\", \"Election_resutls_KAL.txt\")\n",
    "with open(txtpath, 'w') as text:\n",
    "    text.write(\"Election Results\\n\")\n",
    "    text.write(\"---------------------------------------\\n\")\n",
    "    text.write(\"Total Vote: \" + str(total_count) + \"\\n\")\n",
    "    text.write(\"---------------------------------------\\n\")\n",
    "    for i in range(len(set(unique_candidate))):\n",
    "        text.write(unique_candidate[i] + \": \" + str(vote_percent[i]) +\"% (\" + str(vote_count[i]) + \")\\n\")\n",
    "    text.write(\"---------------------------------------\\n\")\n",
    "    text.write(\"The winner is: \" + winner + \"\\n\")\n",
    "    text.write(\"---------------------------------------\\n\")"
   ]
  },
  {
   "cell_type": "code",
   "execution_count": null,
   "id": "2959ca1d",
   "metadata": {},
   "outputs": [],
   "source": []
  }
 ],
 "metadata": {
  "kernelspec": {
   "display_name": "Python 3 (ipykernel)",
   "language": "python",
   "name": "python3"
  },
  "language_info": {
   "codemirror_mode": {
    "name": "ipython",
    "version": 3
   },
   "file_extension": ".py",
   "mimetype": "text/x-python",
   "name": "python",
   "nbconvert_exporter": "python",
   "pygments_lexer": "ipython3",
   "version": "3.10.13"
  }
 },
 "nbformat": 4,
 "nbformat_minor": 5
}
